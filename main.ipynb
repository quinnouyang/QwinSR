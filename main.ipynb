{
 "cells": [
  {
   "cell_type": "markdown",
   "metadata": {},
   "source": [
    "## Google Colab and GitHub Integration\n",
    "\n",
    "Open this notebook (`main.ipynb`) in [Google Colab](https://colab.google/). Clone the repoistory once into your Google Drive (future sessions do not require re-cloning, instead just fetching via `git pull`).\n",
    "\n",
    "This notebook is effectively Colab's \"interface\" to the repository. While it's at the root level of the repository, in Colab, it is at the **parent level**. While we can make commits to this from Colab to GitHub, it is **not under version control**, so you must reload/reopen this notebook from GitHub to fetch any changes affecting it."
   ]
  },
  {
   "cell_type": "code",
   "execution_count": null,
   "metadata": {},
   "outputs": [],
   "source": [
    "from google.colab import drive  # type: ignore\n",
    "drive.mount('/content/drive/MyDrive')  # Or \n",
    "\n",
    "![ -d \"sisr\" ] || git clone https://github.com/quinnouyang/SISR.git  # Clones repository if it does not exist in Drive\n",
    "%cd sisr\n",
    "!git pull"
   ]
  },
  {
   "cell_type": "markdown",
   "metadata": {},
   "source": [
    "# Execution\n"
   ]
  },
  {
   "cell_type": "code",
   "execution_count": 8,
   "metadata": {},
   "outputs": [
    {
     "name": "stdout",
     "output_type": "stream",
     "text": [
      "Foo!\n"
     ]
    }
   ],
   "source": [
    "from model import main\n",
    "\n",
    "main.foo()"
   ]
  }
 ],
 "metadata": {
  "kernelspec": {
   "display_name": "CERG",
   "language": "python",
   "name": "python3"
  },
  "language_info": {
   "codemirror_mode": {
    "name": "ipython",
    "version": 3
   },
   "file_extension": ".py",
   "mimetype": "text/x-python",
   "name": "python",
   "nbconvert_exporter": "python",
   "pygments_lexer": "ipython3",
   "version": "3.11.6"
  }
 },
 "nbformat": 4,
 "nbformat_minor": 2
}
