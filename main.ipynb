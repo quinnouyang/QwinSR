{
 "cells": [
  {
   "cell_type": "markdown",
   "metadata": {},
   "source": [
    "# Model Interface"
   ]
  },
  {
   "cell_type": "markdown",
   "metadata": {},
   "source": [
    "> Skip the following if you are not using [Google Colab](https://colab.research.google.com/).\n",
    "\n",
    "## Google Colab and GitHub Integration Sucks\n",
    "\n",
    "To run this repository on Google Colab, use this notebook (`main.ipynb`) as an executable interface from Colab and quasi-version control script for Drive.\n",
    "\n",
    "1. Open this notebook (`main.ipynb`) in Colab from GitHub.\n",
    "2. Execute the following cell to maintain a copy of [this repository](https://github.com/quinnouyang/SISR) in your Drive. It clones the repository on the first session and simply fetches rather than re-cloning for future sessions.\n",
    "\n",
    "### Caveats\n",
    "\n",
    "- This notebook is **not under version control**. The below `git pull` only updates the *cloned repository*, not this notebook instance. You must reload/reopen this notebook from GitHub to fetch any changes for it. Saving this notebook to Drive does not resolve this.\n",
    "- While this notebook is at the root level of the repository, it is at the **parent level** in Colab.\n",
    "- You may need to grant Colab access permissions to Drive for new/timed-out sessions.\n",
    "- You may need to reinstall dependencies for new/timed-out sessions."
   ]
  },
  {
   "cell_type": "code",
   "execution_count": null,
   "metadata": {},
   "outputs": [],
   "source": [
    "from google.colab import drive  # type: ignore\n",
    "drive.mount('/content/drive')\n",
    "\n",
    "%cd /content/drive/MyDrive\n",
    "![ -d \"SISR\" ] || git clone https://github.com/quinnouyang/SISR.git  # Clones repository if it does not exist in Drive\n",
    "%cd SISR\n",
    "!git reset --hard HEAD  # Removes unpushed changes, etc. (should not be making edits from Colab)\n",
    "!git clean -f -d\n",
    "!git pull\n",
    "# TODO: Install Colab-specific dependencies"
   ]
  },
  {
   "cell_type": "markdown",
   "metadata": {},
   "source": [
    "# Actual Code!\n"
   ]
  },
  {
   "cell_type": "markdown",
   "metadata": {},
   "source": [
    "> Colab Caveat: Before importing anything form the repoistory, ensure you run the above cell for `cd SISR`, which sets the working directory of this notebook from the parent to the root level.\n",
    "> - Comment `type: ignore` on imports to hide error squiggles since this *file* is technically still at the (incorrect) parent level.\n",
    "> - Use `importlib.reload` to reload modules within a session (usually after `git pull`)"
   ]
  },
  {
   "cell_type": "code",
   "execution_count": 1,
   "metadata": {},
   "outputs": [
    {
     "name": "stdout",
     "output_type": "stream",
     "text": [
      "Foo again!\n"
     ]
    }
   ],
   "source": [
    "from importlib import reload\n",
    "from model import main  # type: ignore\n",
    "\n",
    "reload(main)\n",
    "\n",
    "main.foo()"
   ]
  }
 ],
 "metadata": {
  "kernelspec": {
   "display_name": "CERG",
   "language": "python",
   "name": "python3"
  },
  "language_info": {
   "codemirror_mode": {
    "name": "ipython",
    "version": 3
   },
   "file_extension": ".py",
   "mimetype": "text/x-python",
   "name": "python",
   "nbconvert_exporter": "python",
   "pygments_lexer": "ipython3",
   "version": "3.11.6"
  }
 },
 "nbformat": 4,
 "nbformat_minor": 2
}
