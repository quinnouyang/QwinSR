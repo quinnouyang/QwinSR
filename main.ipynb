{
 "cells": [
  {
   "cell_type": "markdown",
   "metadata": {},
   "source": [
    "# Model Interface"
   ]
  },
  {
   "cell_type": "markdown",
   "metadata": {},
   "source": [
    "> Skip the following if you are not using [Google Colab](https://colab.research.google.com/).\n",
    "\n",
    "### Google Colab and GitHub Integration Sucks\n",
    "\n",
    "To run this repository on Google Colab, use this notebook (`main.ipynb`) as an executable and quasi-Google-Drive-version control interface from Colab.\n",
    "\n",
    "1. Open this notebook (`main.ipynb`) in Colab from GitHub.\n",
    "2. Execute the following cell to maintain [this repository](https://github.com/quinnouyang/SISR) in your Drive. In the first Colab session, it will clone the repository. For future sessions, it will simply fetch from it rather than re-cloning.\n",
    "\n",
    "While this notebook is at the root level of the repository, it is at the **parent level** in Colab as we have version control on the *cloned repository*, not this notebook. You must reload/reopen this notebook from GitHub to fetch any changes affecting it."
   ]
  },
  {
   "cell_type": "code",
   "execution_count": null,
   "metadata": {},
   "outputs": [],
   "source": [
    "from google.colab import drive  # type: ignore\n",
    "drive.mount('/content/drive')\n",
    "\n",
    "%cd /content/drive/MyDrive\n",
    "![ -d \"SISR\" ] || git clone https://github.com/quinnouyang/SISR.git  # Clones repository if it does not exist in Drive\n",
    "%cd SISR\n",
    "!git pull\n",
    "# TODO: Install Colab-specific dependencies"
   ]
  },
  {
   "cell_type": "markdown",
   "metadata": {},
   "source": [
    "# Actual Code!\n"
   ]
  },
  {
   "cell_type": "markdown",
   "metadata": {},
   "source": [
    "> Colab Caveat: As this file is at the parent level, imports will technically show up as incorrect on Colab. However, ensure you run the above cell for `cd SISR`, which sets the working directory of this notebook to the root level. We comment `# type: ignore` on imports to hide error squiggles on imports. "
   ]
  },
  {
   "cell_type": "code",
   "execution_count": 1,
   "metadata": {},
   "outputs": [
    {
     "name": "stdout",
     "output_type": "stream",
     "text": [
      "Foo again!\n"
     ]
    }
   ],
   "source": [
    "from model import main  # type: ignore\n",
    "\n",
    "main.foo()"
   ]
  }
 ],
 "metadata": {
  "kernelspec": {
   "display_name": "CERG",
   "language": "python",
   "name": "python3"
  },
  "language_info": {
   "codemirror_mode": {
    "name": "ipython",
    "version": 3
   },
   "file_extension": ".py",
   "mimetype": "text/x-python",
   "name": "python",
   "nbconvert_exporter": "python",
   "pygments_lexer": "ipython3",
   "version": "3.11.6"
  }
 },
 "nbformat": 4,
 "nbformat_minor": 2
}
